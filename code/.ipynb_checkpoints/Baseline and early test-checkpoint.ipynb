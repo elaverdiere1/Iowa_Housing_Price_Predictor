{
 "cells": [
  {
   "cell_type": "code",
   "execution_count": 1,
   "metadata": {},
   "outputs": [],
   "source": [
    "import pandas as pd\n",
    "import numpy as np\n",
    "import matplotlib.pyplot as plt\n",
    "import seaborn as sns\n",
    "from sklearn.metrics import mean_squared_error\n",
    "from sklearn.linear_model import LinearRegression\n",
    "from sklearn.model_selection import train_test_split, cross_val_score\n",
    "from sklearn.metrics import r2_score"
   ]
  },
  {
   "cell_type": "code",
   "execution_count": 2,
   "metadata": {},
   "outputs": [],
   "source": [
    "data = './../datasets/'\n",
    "train = 'train.csv'\n",
    "test = 'test.csv'"
   ]
  },
  {
   "cell_type": "code",
   "execution_count": 3,
   "metadata": {},
   "outputs": [],
   "source": [
    "train_df = pd.read_csv(data+train)\n",
    "test_df = pd.read_csv(data+test)"
   ]
  },
  {
   "cell_type": "code",
   "execution_count": 4,
   "metadata": {},
   "outputs": [
    {
     "data": {
      "text/html": [
       "<div>\n",
       "<style scoped>\n",
       "    .dataframe tbody tr th:only-of-type {\n",
       "        vertical-align: middle;\n",
       "    }\n",
       "\n",
       "    .dataframe tbody tr th {\n",
       "        vertical-align: top;\n",
       "    }\n",
       "\n",
       "    .dataframe thead th {\n",
       "        text-align: right;\n",
       "    }\n",
       "</style>\n",
       "<table border=\"1\" class=\"dataframe\">\n",
       "  <thead>\n",
       "    <tr style=\"text-align: right;\">\n",
       "      <th></th>\n",
       "      <th>Id</th>\n",
       "      <th>PID</th>\n",
       "      <th>MS SubClass</th>\n",
       "      <th>MS Zoning</th>\n",
       "      <th>Lot Frontage</th>\n",
       "      <th>Lot Area</th>\n",
       "      <th>Street</th>\n",
       "      <th>Alley</th>\n",
       "      <th>Lot Shape</th>\n",
       "      <th>Land Contour</th>\n",
       "      <th>...</th>\n",
       "      <th>Screen Porch</th>\n",
       "      <th>Pool Area</th>\n",
       "      <th>Pool QC</th>\n",
       "      <th>Fence</th>\n",
       "      <th>Misc Feature</th>\n",
       "      <th>Misc Val</th>\n",
       "      <th>Mo Sold</th>\n",
       "      <th>Yr Sold</th>\n",
       "      <th>Sale Type</th>\n",
       "      <th>SalePrice</th>\n",
       "    </tr>\n",
       "  </thead>\n",
       "  <tbody>\n",
       "    <tr>\n",
       "      <th>0</th>\n",
       "      <td>109</td>\n",
       "      <td>533352170</td>\n",
       "      <td>60</td>\n",
       "      <td>RL</td>\n",
       "      <td>NaN</td>\n",
       "      <td>13517</td>\n",
       "      <td>Pave</td>\n",
       "      <td>NaN</td>\n",
       "      <td>IR1</td>\n",
       "      <td>Lvl</td>\n",
       "      <td>...</td>\n",
       "      <td>0</td>\n",
       "      <td>0</td>\n",
       "      <td>NaN</td>\n",
       "      <td>NaN</td>\n",
       "      <td>NaN</td>\n",
       "      <td>0</td>\n",
       "      <td>3</td>\n",
       "      <td>2010</td>\n",
       "      <td>WD</td>\n",
       "      <td>130500</td>\n",
       "    </tr>\n",
       "    <tr>\n",
       "      <th>1</th>\n",
       "      <td>544</td>\n",
       "      <td>531379050</td>\n",
       "      <td>60</td>\n",
       "      <td>RL</td>\n",
       "      <td>43.0</td>\n",
       "      <td>11492</td>\n",
       "      <td>Pave</td>\n",
       "      <td>NaN</td>\n",
       "      <td>IR1</td>\n",
       "      <td>Lvl</td>\n",
       "      <td>...</td>\n",
       "      <td>0</td>\n",
       "      <td>0</td>\n",
       "      <td>NaN</td>\n",
       "      <td>NaN</td>\n",
       "      <td>NaN</td>\n",
       "      <td>0</td>\n",
       "      <td>4</td>\n",
       "      <td>2009</td>\n",
       "      <td>WD</td>\n",
       "      <td>220000</td>\n",
       "    </tr>\n",
       "    <tr>\n",
       "      <th>2</th>\n",
       "      <td>153</td>\n",
       "      <td>535304180</td>\n",
       "      <td>20</td>\n",
       "      <td>RL</td>\n",
       "      <td>68.0</td>\n",
       "      <td>7922</td>\n",
       "      <td>Pave</td>\n",
       "      <td>NaN</td>\n",
       "      <td>Reg</td>\n",
       "      <td>Lvl</td>\n",
       "      <td>...</td>\n",
       "      <td>0</td>\n",
       "      <td>0</td>\n",
       "      <td>NaN</td>\n",
       "      <td>NaN</td>\n",
       "      <td>NaN</td>\n",
       "      <td>0</td>\n",
       "      <td>1</td>\n",
       "      <td>2010</td>\n",
       "      <td>WD</td>\n",
       "      <td>109000</td>\n",
       "    </tr>\n",
       "    <tr>\n",
       "      <th>3</th>\n",
       "      <td>318</td>\n",
       "      <td>916386060</td>\n",
       "      <td>60</td>\n",
       "      <td>RL</td>\n",
       "      <td>73.0</td>\n",
       "      <td>9802</td>\n",
       "      <td>Pave</td>\n",
       "      <td>NaN</td>\n",
       "      <td>Reg</td>\n",
       "      <td>Lvl</td>\n",
       "      <td>...</td>\n",
       "      <td>0</td>\n",
       "      <td>0</td>\n",
       "      <td>NaN</td>\n",
       "      <td>NaN</td>\n",
       "      <td>NaN</td>\n",
       "      <td>0</td>\n",
       "      <td>4</td>\n",
       "      <td>2010</td>\n",
       "      <td>WD</td>\n",
       "      <td>174000</td>\n",
       "    </tr>\n",
       "    <tr>\n",
       "      <th>4</th>\n",
       "      <td>255</td>\n",
       "      <td>906425045</td>\n",
       "      <td>50</td>\n",
       "      <td>RL</td>\n",
       "      <td>82.0</td>\n",
       "      <td>14235</td>\n",
       "      <td>Pave</td>\n",
       "      <td>NaN</td>\n",
       "      <td>IR1</td>\n",
       "      <td>Lvl</td>\n",
       "      <td>...</td>\n",
       "      <td>0</td>\n",
       "      <td>0</td>\n",
       "      <td>NaN</td>\n",
       "      <td>NaN</td>\n",
       "      <td>NaN</td>\n",
       "      <td>0</td>\n",
       "      <td>3</td>\n",
       "      <td>2010</td>\n",
       "      <td>WD</td>\n",
       "      <td>138500</td>\n",
       "    </tr>\n",
       "  </tbody>\n",
       "</table>\n",
       "<p>5 rows × 81 columns</p>\n",
       "</div>"
      ],
      "text/plain": [
       "    Id        PID  MS SubClass MS Zoning  Lot Frontage  Lot Area Street Alley  \\\n",
       "0  109  533352170           60        RL           NaN     13517   Pave   NaN   \n",
       "1  544  531379050           60        RL          43.0     11492   Pave   NaN   \n",
       "2  153  535304180           20        RL          68.0      7922   Pave   NaN   \n",
       "3  318  916386060           60        RL          73.0      9802   Pave   NaN   \n",
       "4  255  906425045           50        RL          82.0     14235   Pave   NaN   \n",
       "\n",
       "  Lot Shape Land Contour  ... Screen Porch Pool Area Pool QC Fence  \\\n",
       "0       IR1          Lvl  ...            0         0     NaN   NaN   \n",
       "1       IR1          Lvl  ...            0         0     NaN   NaN   \n",
       "2       Reg          Lvl  ...            0         0     NaN   NaN   \n",
       "3       Reg          Lvl  ...            0         0     NaN   NaN   \n",
       "4       IR1          Lvl  ...            0         0     NaN   NaN   \n",
       "\n",
       "  Misc Feature Misc Val Mo Sold Yr Sold  Sale Type  SalePrice  \n",
       "0          NaN        0       3    2010        WD      130500  \n",
       "1          NaN        0       4    2009        WD      220000  \n",
       "2          NaN        0       1    2010        WD      109000  \n",
       "3          NaN        0       4    2010        WD      174000  \n",
       "4          NaN        0       3    2010        WD      138500  \n",
       "\n",
       "[5 rows x 81 columns]"
      ]
     },
     "execution_count": 4,
     "metadata": {},
     "output_type": "execute_result"
    }
   ],
   "source": [
    "train_df.head()"
   ]
  },
  {
   "cell_type": "code",
   "execution_count": 5,
   "metadata": {},
   "outputs": [
    {
     "data": {
      "text/plain": [
       "(2051, 81)"
      ]
     },
     "execution_count": 5,
     "metadata": {},
     "output_type": "execute_result"
    }
   ],
   "source": [
    "train_df.shape"
   ]
  },
  {
   "cell_type": "code",
   "execution_count": 6,
   "metadata": {},
   "outputs": [
    {
     "data": {
      "text/html": [
       "<div>\n",
       "<style scoped>\n",
       "    .dataframe tbody tr th:only-of-type {\n",
       "        vertical-align: middle;\n",
       "    }\n",
       "\n",
       "    .dataframe tbody tr th {\n",
       "        vertical-align: top;\n",
       "    }\n",
       "\n",
       "    .dataframe thead th {\n",
       "        text-align: right;\n",
       "    }\n",
       "</style>\n",
       "<table border=\"1\" class=\"dataframe\">\n",
       "  <thead>\n",
       "    <tr style=\"text-align: right;\">\n",
       "      <th></th>\n",
       "      <th>Id</th>\n",
       "      <th>PID</th>\n",
       "      <th>MS SubClass</th>\n",
       "      <th>MS Zoning</th>\n",
       "      <th>Lot Frontage</th>\n",
       "      <th>Lot Area</th>\n",
       "      <th>Street</th>\n",
       "      <th>Alley</th>\n",
       "      <th>Lot Shape</th>\n",
       "      <th>Land Contour</th>\n",
       "      <th>...</th>\n",
       "      <th>3Ssn Porch</th>\n",
       "      <th>Screen Porch</th>\n",
       "      <th>Pool Area</th>\n",
       "      <th>Pool QC</th>\n",
       "      <th>Fence</th>\n",
       "      <th>Misc Feature</th>\n",
       "      <th>Misc Val</th>\n",
       "      <th>Mo Sold</th>\n",
       "      <th>Yr Sold</th>\n",
       "      <th>Sale Type</th>\n",
       "    </tr>\n",
       "  </thead>\n",
       "  <tbody>\n",
       "    <tr>\n",
       "      <th>0</th>\n",
       "      <td>2658</td>\n",
       "      <td>902301120</td>\n",
       "      <td>190</td>\n",
       "      <td>RM</td>\n",
       "      <td>69.0</td>\n",
       "      <td>9142</td>\n",
       "      <td>Pave</td>\n",
       "      <td>Grvl</td>\n",
       "      <td>Reg</td>\n",
       "      <td>Lvl</td>\n",
       "      <td>...</td>\n",
       "      <td>0</td>\n",
       "      <td>0</td>\n",
       "      <td>0</td>\n",
       "      <td>NaN</td>\n",
       "      <td>NaN</td>\n",
       "      <td>NaN</td>\n",
       "      <td>0</td>\n",
       "      <td>4</td>\n",
       "      <td>2006</td>\n",
       "      <td>WD</td>\n",
       "    </tr>\n",
       "    <tr>\n",
       "      <th>1</th>\n",
       "      <td>2718</td>\n",
       "      <td>905108090</td>\n",
       "      <td>90</td>\n",
       "      <td>RL</td>\n",
       "      <td>NaN</td>\n",
       "      <td>9662</td>\n",
       "      <td>Pave</td>\n",
       "      <td>NaN</td>\n",
       "      <td>IR1</td>\n",
       "      <td>Lvl</td>\n",
       "      <td>...</td>\n",
       "      <td>0</td>\n",
       "      <td>0</td>\n",
       "      <td>0</td>\n",
       "      <td>NaN</td>\n",
       "      <td>NaN</td>\n",
       "      <td>NaN</td>\n",
       "      <td>0</td>\n",
       "      <td>8</td>\n",
       "      <td>2006</td>\n",
       "      <td>WD</td>\n",
       "    </tr>\n",
       "    <tr>\n",
       "      <th>2</th>\n",
       "      <td>2414</td>\n",
       "      <td>528218130</td>\n",
       "      <td>60</td>\n",
       "      <td>RL</td>\n",
       "      <td>58.0</td>\n",
       "      <td>17104</td>\n",
       "      <td>Pave</td>\n",
       "      <td>NaN</td>\n",
       "      <td>IR1</td>\n",
       "      <td>Lvl</td>\n",
       "      <td>...</td>\n",
       "      <td>0</td>\n",
       "      <td>0</td>\n",
       "      <td>0</td>\n",
       "      <td>NaN</td>\n",
       "      <td>NaN</td>\n",
       "      <td>NaN</td>\n",
       "      <td>0</td>\n",
       "      <td>9</td>\n",
       "      <td>2006</td>\n",
       "      <td>New</td>\n",
       "    </tr>\n",
       "    <tr>\n",
       "      <th>3</th>\n",
       "      <td>1989</td>\n",
       "      <td>902207150</td>\n",
       "      <td>30</td>\n",
       "      <td>RM</td>\n",
       "      <td>60.0</td>\n",
       "      <td>8520</td>\n",
       "      <td>Pave</td>\n",
       "      <td>NaN</td>\n",
       "      <td>Reg</td>\n",
       "      <td>Lvl</td>\n",
       "      <td>...</td>\n",
       "      <td>0</td>\n",
       "      <td>0</td>\n",
       "      <td>0</td>\n",
       "      <td>NaN</td>\n",
       "      <td>NaN</td>\n",
       "      <td>NaN</td>\n",
       "      <td>0</td>\n",
       "      <td>7</td>\n",
       "      <td>2007</td>\n",
       "      <td>WD</td>\n",
       "    </tr>\n",
       "    <tr>\n",
       "      <th>4</th>\n",
       "      <td>625</td>\n",
       "      <td>535105100</td>\n",
       "      <td>20</td>\n",
       "      <td>RL</td>\n",
       "      <td>NaN</td>\n",
       "      <td>9500</td>\n",
       "      <td>Pave</td>\n",
       "      <td>NaN</td>\n",
       "      <td>IR1</td>\n",
       "      <td>Lvl</td>\n",
       "      <td>...</td>\n",
       "      <td>0</td>\n",
       "      <td>185</td>\n",
       "      <td>0</td>\n",
       "      <td>NaN</td>\n",
       "      <td>NaN</td>\n",
       "      <td>NaN</td>\n",
       "      <td>0</td>\n",
       "      <td>7</td>\n",
       "      <td>2009</td>\n",
       "      <td>WD</td>\n",
       "    </tr>\n",
       "  </tbody>\n",
       "</table>\n",
       "<p>5 rows × 80 columns</p>\n",
       "</div>"
      ],
      "text/plain": [
       "     Id        PID  MS SubClass MS Zoning  Lot Frontage  Lot Area Street  \\\n",
       "0  2658  902301120          190        RM          69.0      9142   Pave   \n",
       "1  2718  905108090           90        RL           NaN      9662   Pave   \n",
       "2  2414  528218130           60        RL          58.0     17104   Pave   \n",
       "3  1989  902207150           30        RM          60.0      8520   Pave   \n",
       "4   625  535105100           20        RL           NaN      9500   Pave   \n",
       "\n",
       "  Alley Lot Shape Land Contour  ... 3Ssn Porch Screen Porch Pool Area Pool QC  \\\n",
       "0  Grvl       Reg          Lvl  ...          0            0         0     NaN   \n",
       "1   NaN       IR1          Lvl  ...          0            0         0     NaN   \n",
       "2   NaN       IR1          Lvl  ...          0            0         0     NaN   \n",
       "3   NaN       Reg          Lvl  ...          0            0         0     NaN   \n",
       "4   NaN       IR1          Lvl  ...          0          185         0     NaN   \n",
       "\n",
       "  Fence Misc Feature Misc Val Mo Sold  Yr Sold  Sale Type  \n",
       "0   NaN          NaN        0       4     2006        WD   \n",
       "1   NaN          NaN        0       8     2006        WD   \n",
       "2   NaN          NaN        0       9     2006        New  \n",
       "3   NaN          NaN        0       7     2007        WD   \n",
       "4   NaN          NaN        0       7     2009        WD   \n",
       "\n",
       "[5 rows x 80 columns]"
      ]
     },
     "execution_count": 6,
     "metadata": {},
     "output_type": "execute_result"
    }
   ],
   "source": [
    "test_df.head()"
   ]
  },
  {
   "cell_type": "code",
   "execution_count": 7,
   "metadata": {},
   "outputs": [],
   "source": [
    "train_df['baseline'] = train_df['SalePrice'].mean()"
   ]
  },
  {
   "cell_type": "code",
   "execution_count": null,
   "metadata": {},
   "outputs": [],
   "source": []
  },
  {
   "cell_type": "code",
   "execution_count": 8,
   "metadata": {},
   "outputs": [
    {
     "data": {
      "text/plain": [
       "79239.33504161824"
      ]
     },
     "execution_count": 8,
     "metadata": {},
     "output_type": "execute_result"
    }
   ],
   "source": [
    "mean_squared_error(train_df['SalePrice'], train_df['baseline'])**(1/2)"
   ]
  },
  {
   "cell_type": "code",
   "execution_count": 9,
   "metadata": {},
   "outputs": [],
   "source": [
    "test_df['SalePrice'] = train_df['baseline'].copy()"
   ]
  },
  {
   "cell_type": "code",
   "execution_count": 10,
   "metadata": {},
   "outputs": [
    {
     "data": {
      "text/html": [
       "<div>\n",
       "<style scoped>\n",
       "    .dataframe tbody tr th:only-of-type {\n",
       "        vertical-align: middle;\n",
       "    }\n",
       "\n",
       "    .dataframe tbody tr th {\n",
       "        vertical-align: top;\n",
       "    }\n",
       "\n",
       "    .dataframe thead th {\n",
       "        text-align: right;\n",
       "    }\n",
       "</style>\n",
       "<table border=\"1\" class=\"dataframe\">\n",
       "  <thead>\n",
       "    <tr style=\"text-align: right;\">\n",
       "      <th></th>\n",
       "      <th>Id</th>\n",
       "      <th>PID</th>\n",
       "      <th>MS SubClass</th>\n",
       "      <th>MS Zoning</th>\n",
       "      <th>Lot Frontage</th>\n",
       "      <th>Lot Area</th>\n",
       "      <th>Street</th>\n",
       "      <th>Alley</th>\n",
       "      <th>Lot Shape</th>\n",
       "      <th>Land Contour</th>\n",
       "      <th>...</th>\n",
       "      <th>Screen Porch</th>\n",
       "      <th>Pool Area</th>\n",
       "      <th>Pool QC</th>\n",
       "      <th>Fence</th>\n",
       "      <th>Misc Feature</th>\n",
       "      <th>Misc Val</th>\n",
       "      <th>Mo Sold</th>\n",
       "      <th>Yr Sold</th>\n",
       "      <th>Sale Type</th>\n",
       "      <th>SalePrice</th>\n",
       "    </tr>\n",
       "  </thead>\n",
       "  <tbody>\n",
       "    <tr>\n",
       "      <th>0</th>\n",
       "      <td>2658</td>\n",
       "      <td>902301120</td>\n",
       "      <td>190</td>\n",
       "      <td>RM</td>\n",
       "      <td>69.0</td>\n",
       "      <td>9142</td>\n",
       "      <td>Pave</td>\n",
       "      <td>Grvl</td>\n",
       "      <td>Reg</td>\n",
       "      <td>Lvl</td>\n",
       "      <td>...</td>\n",
       "      <td>0</td>\n",
       "      <td>0</td>\n",
       "      <td>NaN</td>\n",
       "      <td>NaN</td>\n",
       "      <td>NaN</td>\n",
       "      <td>0</td>\n",
       "      <td>4</td>\n",
       "      <td>2006</td>\n",
       "      <td>WD</td>\n",
       "      <td>181469.701609</td>\n",
       "    </tr>\n",
       "    <tr>\n",
       "      <th>1</th>\n",
       "      <td>2718</td>\n",
       "      <td>905108090</td>\n",
       "      <td>90</td>\n",
       "      <td>RL</td>\n",
       "      <td>NaN</td>\n",
       "      <td>9662</td>\n",
       "      <td>Pave</td>\n",
       "      <td>NaN</td>\n",
       "      <td>IR1</td>\n",
       "      <td>Lvl</td>\n",
       "      <td>...</td>\n",
       "      <td>0</td>\n",
       "      <td>0</td>\n",
       "      <td>NaN</td>\n",
       "      <td>NaN</td>\n",
       "      <td>NaN</td>\n",
       "      <td>0</td>\n",
       "      <td>8</td>\n",
       "      <td>2006</td>\n",
       "      <td>WD</td>\n",
       "      <td>181469.701609</td>\n",
       "    </tr>\n",
       "    <tr>\n",
       "      <th>2</th>\n",
       "      <td>2414</td>\n",
       "      <td>528218130</td>\n",
       "      <td>60</td>\n",
       "      <td>RL</td>\n",
       "      <td>58.0</td>\n",
       "      <td>17104</td>\n",
       "      <td>Pave</td>\n",
       "      <td>NaN</td>\n",
       "      <td>IR1</td>\n",
       "      <td>Lvl</td>\n",
       "      <td>...</td>\n",
       "      <td>0</td>\n",
       "      <td>0</td>\n",
       "      <td>NaN</td>\n",
       "      <td>NaN</td>\n",
       "      <td>NaN</td>\n",
       "      <td>0</td>\n",
       "      <td>9</td>\n",
       "      <td>2006</td>\n",
       "      <td>New</td>\n",
       "      <td>181469.701609</td>\n",
       "    </tr>\n",
       "    <tr>\n",
       "      <th>3</th>\n",
       "      <td>1989</td>\n",
       "      <td>902207150</td>\n",
       "      <td>30</td>\n",
       "      <td>RM</td>\n",
       "      <td>60.0</td>\n",
       "      <td>8520</td>\n",
       "      <td>Pave</td>\n",
       "      <td>NaN</td>\n",
       "      <td>Reg</td>\n",
       "      <td>Lvl</td>\n",
       "      <td>...</td>\n",
       "      <td>0</td>\n",
       "      <td>0</td>\n",
       "      <td>NaN</td>\n",
       "      <td>NaN</td>\n",
       "      <td>NaN</td>\n",
       "      <td>0</td>\n",
       "      <td>7</td>\n",
       "      <td>2007</td>\n",
       "      <td>WD</td>\n",
       "      <td>181469.701609</td>\n",
       "    </tr>\n",
       "    <tr>\n",
       "      <th>4</th>\n",
       "      <td>625</td>\n",
       "      <td>535105100</td>\n",
       "      <td>20</td>\n",
       "      <td>RL</td>\n",
       "      <td>NaN</td>\n",
       "      <td>9500</td>\n",
       "      <td>Pave</td>\n",
       "      <td>NaN</td>\n",
       "      <td>IR1</td>\n",
       "      <td>Lvl</td>\n",
       "      <td>...</td>\n",
       "      <td>185</td>\n",
       "      <td>0</td>\n",
       "      <td>NaN</td>\n",
       "      <td>NaN</td>\n",
       "      <td>NaN</td>\n",
       "      <td>0</td>\n",
       "      <td>7</td>\n",
       "      <td>2009</td>\n",
       "      <td>WD</td>\n",
       "      <td>181469.701609</td>\n",
       "    </tr>\n",
       "  </tbody>\n",
       "</table>\n",
       "<p>5 rows × 81 columns</p>\n",
       "</div>"
      ],
      "text/plain": [
       "     Id        PID  MS SubClass MS Zoning  Lot Frontage  Lot Area Street  \\\n",
       "0  2658  902301120          190        RM          69.0      9142   Pave   \n",
       "1  2718  905108090           90        RL           NaN      9662   Pave   \n",
       "2  2414  528218130           60        RL          58.0     17104   Pave   \n",
       "3  1989  902207150           30        RM          60.0      8520   Pave   \n",
       "4   625  535105100           20        RL           NaN      9500   Pave   \n",
       "\n",
       "  Alley Lot Shape Land Contour  ... Screen Porch Pool Area Pool QC Fence  \\\n",
       "0  Grvl       Reg          Lvl  ...            0         0     NaN   NaN   \n",
       "1   NaN       IR1          Lvl  ...            0         0     NaN   NaN   \n",
       "2   NaN       IR1          Lvl  ...            0         0     NaN   NaN   \n",
       "3   NaN       Reg          Lvl  ...            0         0     NaN   NaN   \n",
       "4   NaN       IR1          Lvl  ...          185         0     NaN   NaN   \n",
       "\n",
       "  Misc Feature Misc Val Mo Sold Yr Sold  Sale Type      SalePrice  \n",
       "0          NaN        0       4    2006        WD   181469.701609  \n",
       "1          NaN        0       8    2006        WD   181469.701609  \n",
       "2          NaN        0       9    2006        New  181469.701609  \n",
       "3          NaN        0       7    2007        WD   181469.701609  \n",
       "4          NaN        0       7    2009        WD   181469.701609  \n",
       "\n",
       "[5 rows x 81 columns]"
      ]
     },
     "execution_count": 10,
     "metadata": {},
     "output_type": "execute_result"
    }
   ],
   "source": [
    "test_df.head()"
   ]
  },
  {
   "cell_type": "code",
   "execution_count": 11,
   "metadata": {},
   "outputs": [],
   "source": [
    "submission = test_df[['Id', 'SalePrice']].copy()"
   ]
  },
  {
   "cell_type": "code",
   "execution_count": 12,
   "metadata": {},
   "outputs": [
    {
     "data": {
      "text/html": [
       "<div>\n",
       "<style scoped>\n",
       "    .dataframe tbody tr th:only-of-type {\n",
       "        vertical-align: middle;\n",
       "    }\n",
       "\n",
       "    .dataframe tbody tr th {\n",
       "        vertical-align: top;\n",
       "    }\n",
       "\n",
       "    .dataframe thead th {\n",
       "        text-align: right;\n",
       "    }\n",
       "</style>\n",
       "<table border=\"1\" class=\"dataframe\">\n",
       "  <thead>\n",
       "    <tr style=\"text-align: right;\">\n",
       "      <th></th>\n",
       "      <th>Id</th>\n",
       "      <th>SalePrice</th>\n",
       "    </tr>\n",
       "  </thead>\n",
       "  <tbody>\n",
       "    <tr>\n",
       "      <th>0</th>\n",
       "      <td>2658</td>\n",
       "      <td>181469.701609</td>\n",
       "    </tr>\n",
       "    <tr>\n",
       "      <th>1</th>\n",
       "      <td>2718</td>\n",
       "      <td>181469.701609</td>\n",
       "    </tr>\n",
       "    <tr>\n",
       "      <th>2</th>\n",
       "      <td>2414</td>\n",
       "      <td>181469.701609</td>\n",
       "    </tr>\n",
       "    <tr>\n",
       "      <th>3</th>\n",
       "      <td>1989</td>\n",
       "      <td>181469.701609</td>\n",
       "    </tr>\n",
       "    <tr>\n",
       "      <th>4</th>\n",
       "      <td>625</td>\n",
       "      <td>181469.701609</td>\n",
       "    </tr>\n",
       "  </tbody>\n",
       "</table>\n",
       "</div>"
      ],
      "text/plain": [
       "     Id      SalePrice\n",
       "0  2658  181469.701609\n",
       "1  2718  181469.701609\n",
       "2  2414  181469.701609\n",
       "3  1989  181469.701609\n",
       "4   625  181469.701609"
      ]
     },
     "execution_count": 12,
     "metadata": {},
     "output_type": "execute_result"
    }
   ],
   "source": [
    "submission.head()"
   ]
  },
  {
   "cell_type": "code",
   "execution_count": 13,
   "metadata": {},
   "outputs": [],
   "source": [
    "submission.to_csv(data+'/submissions/baseline.csv', index=False)"
   ]
  },
  {
   "cell_type": "code",
   "execution_count": 14,
   "metadata": {},
   "outputs": [
    {
     "data": {
      "text/plain": [
       "Id                int64\n",
       "PID               int64\n",
       "MS SubClass       int64\n",
       "MS Zoning        object\n",
       "Lot Frontage    float64\n",
       "                 ...   \n",
       "Mo Sold           int64\n",
       "Yr Sold           int64\n",
       "Sale Type        object\n",
       "SalePrice         int64\n",
       "baseline        float64\n",
       "Length: 82, dtype: object"
      ]
     },
     "execution_count": 14,
     "metadata": {},
     "output_type": "execute_result"
    }
   ],
   "source": [
    "train_df.dtypes"
   ]
  },
  {
   "cell_type": "code",
   "execution_count": 15,
   "metadata": {},
   "outputs": [
    {
     "data": {
      "text/plain": [
       "<matplotlib.axes._subplots.AxesSubplot at 0x7f80580fb510>"
      ]
     },
     "execution_count": 15,
     "metadata": {},
     "output_type": "execute_result"
    },
    {
     "data": {
      "image/png": "[encoded data removed]",
      "text/plain": [
       "<Figure size 576x864 with 2 Axes>"
      ]
     },
     "metadata": {
      "needs_background": "light"
     },
     "output_type": "display_data"
    }
   ],
   "source": [
    "plt.figure(figsize=(8, 12))\n",
    "sns.heatmap(train_df.corr()[['SalePrice']].sort_values('SalePrice'),\n",
    "            annot=True,\n",
    "            cmap='coolwarm',\n",
    "            vmin=-1,\n",
    "            vmax=1)"
   ]
  },
  {
   "cell_type": "code",
   "execution_count": null,
   "metadata": {},
   "outputs": [],
   "source": []
  },
  {
   "cell_type": "code",
   "execution_count": 16,
   "metadata": {},
   "outputs": [
    {
     "data": {
      "text/plain": [
       "(2051, 82)"
      ]
     },
     "execution_count": 16,
     "metadata": {},
     "output_type": "execute_result"
    }
   ],
   "source": [
    "train_df.shape"
   ]
  },
  {
   "cell_type": "code",
   "execution_count": null,
   "metadata": {},
   "outputs": [],
   "source": []
  },
  {
   "cell_type": "code",
   "execution_count": 17,
   "metadata": {},
   "outputs": [],
   "source": [
    "features = ['Gr Liv Area', '1st Flr SF', 'Overall Qual']\n",
    "X = train_df[features]\n",
    "y = train_df['SalePrice']"
   ]
  },
  {
   "cell_type": "code",
   "execution_count": 18,
   "metadata": {},
   "outputs": [
    {
     "data": {
      "text/plain": [
       "Gr Liv Area     int64\n",
       "1st Flr SF      int64\n",
       "Overall Qual    int64\n",
       "dtype: object"
      ]
     },
     "execution_count": 18,
     "metadata": {},
     "output_type": "execute_result"
    }
   ],
   "source": [
    "X.dtypes"
   ]
  },
  {
   "cell_type": "code",
   "execution_count": null,
   "metadata": {},
   "outputs": [],
   "source": []
  },
  {
   "cell_type": "code",
   "execution_count": 19,
   "metadata": {},
   "outputs": [],
   "source": [
    "lr = LinearRegression()"
   ]
  },
  {
   "cell_type": "code",
   "execution_count": 20,
   "metadata": {},
   "outputs": [],
   "source": [
    "X_train, X_test, y_train, y_test = train_test_split(X, y, random_state=42)"
   ]
  },
  {
   "cell_type": "code",
   "execution_count": 21,
   "metadata": {},
   "outputs": [
    {
     "data": {
      "text/plain": [
       "0.7314123710190344"
      ]
     },
     "execution_count": 21,
     "metadata": {},
     "output_type": "execute_result"
    }
   ],
   "source": [
    "cross_val_score(lr, X_train, y_train).mean()"
   ]
  },
  {
   "cell_type": "code",
   "execution_count": 22,
   "metadata": {},
   "outputs": [
    {
     "data": {
      "text/plain": [
       "LinearRegression(copy_X=True, fit_intercept=True, n_jobs=None, normalize=False)"
      ]
     },
     "execution_count": 22,
     "metadata": {},
     "output_type": "execute_result"
    }
   ],
   "source": [
    "\n",
    "lr.fit(X_train,y_train)"
   ]
  },
  {
   "cell_type": "code",
   "execution_count": 23,
   "metadata": {},
   "outputs": [
    {
     "data": {
      "text/plain": [
       "0.7407254759800405"
      ]
     },
     "execution_count": 23,
     "metadata": {},
     "output_type": "execute_result"
    }
   ],
   "source": [
    "lr.score(X_train, y_train)"
   ]
  },
  {
   "cell_type": "code",
   "execution_count": 24,
   "metadata": {},
   "outputs": [
    {
     "data": {
      "text/plain": [
       "0.7954012628298038"
      ]
     },
     "execution_count": 24,
     "metadata": {},
     "output_type": "execute_result"
    }
   ],
   "source": [
    "lr.score(X_test, y_test)"
   ]
  },
  {
   "cell_type": "code",
   "execution_count": null,
   "metadata": {},
   "outputs": [],
   "source": []
  },
  {
   "cell_type": "code",
   "execution_count": 25,
   "metadata": {},
   "outputs": [],
   "source": [
    "features = ['Gr Liv Area', '1st Flr SF', 'Overall Qual']\n",
    "X = test_df[features]"
   ]
  },
  {
   "cell_type": "code",
   "execution_count": 26,
   "metadata": {},
   "outputs": [
    {
     "data": {
      "text/plain": [
       "Gr Liv Area     0\n",
       "1st Flr SF      0\n",
       "Overall Qual    0\n",
       "dtype: int64"
      ]
     },
     "execution_count": 26,
     "metadata": {},
     "output_type": "execute_result"
    }
   ],
   "source": [
    "X.isnull().sum()"
   ]
  },
  {
   "cell_type": "code",
   "execution_count": 27,
   "metadata": {},
   "outputs": [],
   "source": [
    "pred = lr.predict(X)"
   ]
  },
  {
   "cell_type": "code",
   "execution_count": 28,
   "metadata": {},
   "outputs": [
    {
     "data": {
      "text/plain": [
       "array([186894.57399172, 195627.05459252, 190699.3185731 , 117116.61263963,\n",
       "       181592.9061533 ,  76237.79441218,  95942.87519807, 140693.32193479,\n",
       "       204872.13262937, 172555.16759016, 167682.64766916, 153772.38918501,\n",
       "       180099.71456461, 263868.29051996, 186505.73253731, 146351.73216563,\n",
       "       165051.47796615, 125368.46089294, 211378.14889619, 241245.26224325,\n",
       "       124346.80349015, 108943.35341731, 199118.26006271, 149685.75957385,\n",
       "       198758.60301469, 108943.35341731, 130205.49847572, 154812.95822068,\n",
       "       154872.63561879,  23506.67090168,  77474.45291686,  92040.06974699,\n",
       "       263063.54368825, 133620.30914624, 220291.99750427, 187065.90819501,\n",
       "       121934.65131949,  88476.91725461, 112558.44884257, 209761.06735243,\n",
       "       146233.84606186, 217826.3370085 , 145330.07476284, 148159.27987826,\n",
       "       220999.29878312,  96042.23022012, 212267.97506819, 116880.84554668,\n",
       "       114601.76364815, 122775.02287047, 127043.70023517, 272338.49519617,\n",
       "       260955.81462982, 127901.61551886, 119288.3982404 , 152672.14275124,\n",
       "       221374.32817316, 146666.08828957, 196793.87724009, 218224.88682675,\n",
       "       291684.12574452, 130633.92596886, 133463.13108428, 204625.43165346,\n",
       "       169512.87084204, 296163.7005106 ,  77474.45291686, 174362.71530279,\n",
       "        39875.60799968, 138683.29523611,  68751.07047765, 295701.58060801,\n",
       "       194638.68529662, 194636.42663589, 123560.91318031, 207527.28637798,\n",
       "       180223.60451968, 166896.75735932, 110357.95597502, 304920.37105671,\n",
       "       217698.5594818 , 145378.39113481, 123646.59851905,  98599.44684327,\n",
       "       166164.01686465, 294513.33085994, 109886.42178912, 175777.3178605 ,\n",
       "       268186.00548034, 174037.6914212 , 119552.87260013,  96055.6244597 ,\n",
       "       155113.5895503 , 230541.85963907, 121538.36436579, 174914.33016409,\n",
       "       159633.2784019 , 256161.88373981, 173279.53966593, 234151.47414523,\n",
       "       267164.34807755, 212714.16242291, 113580.10624536, 390144.16875012,\n",
       "       169804.55150572, 109100.53147928, 161101.38417014, 198940.29737286,\n",
       "       223009.3254818 , 154020.16909515, 184736.46739266, 251978.47388907,\n",
       "       118655.10515241, 130633.92596886, 220449.17556623, 416512.74134971,\n",
       "       155407.90942586, 119209.66682836, 300205.02919767, 173725.24476646,\n",
       "       350535.29713425, 258300.85837329, 299733.49501177, 163266.20652581,\n",
       "       139431.56408742, 315260.48584814, 108943.35341731, 120260.17387899,\n",
       "       113205.87523124, 285273.11331074, 121596.18740571, 175786.19057479,\n",
       "       128329.54723557, 160688.22391159, 165305.00912451, 238028.6386846 ,\n",
       "       210625.54669325, 190585.34379236, 174362.71530279, 105171.07993008,\n",
       "       180571.24875051, 125761.40604786, 161857.61713781, 187880.02863201,\n",
       "       122921.40011213, 159130.97578056, 185104.11571282, 156165.721308  ,\n",
       "        62417.3342857 , 239782.07718826, 207296.77475683, 176892.04167191,\n",
       "       162235.40096501, 111772.55853273, 103284.94318647, 127333.18666754,\n",
       "        76237.79441218, 145599.12996269, 226521.69613101, 268458.79234853,\n",
       "       189373.22022071, 119820.61501082, 124032.44736621, 406176.33107083,\n",
       "       279457.52501793, 256869.18501866, 159587.97747782, 193021.60375286,\n",
       "       236391.92939884, 216598.31304802, 473565.36659994, 118845.57132128,\n",
       "       163641.31898208, 173881.54138627, 222883.09891435, 184984.25150662,\n",
       "        95347.4510571 , 194212.45203481,  76237.79441218, 138650.00712921,\n",
       "       144221.47854698, 226853.82563876, 249938.77632599, 193188.74698558,\n",
       "       178134.98879001, 150775.06280626, 195505.14273988, 232920.35167065,\n",
       "       118059.68101144,  53235.74326693, 203902.27577839, 115309.064927  ,\n",
       "       137897.40492627, 108943.35341731, 163467.80406971, 143712.99321908,\n",
       "       248276.04046278, 139172.92404215, 146014.81500728, 131026.87112378,\n",
       "       298707.23813204, 236827.93545392, 145441.95190072, 174866.49093173,\n",
       "       159527.41863755,  91777.65655593, 164861.90676167, 148476.29805472,\n",
       "       241701.50203878, 186604.54599033, 179170.84812672, 185935.24251733,\n",
       "        99252.62959475, 263044.43035949, 287395.0171473 , 207446.57174892,\n",
       "       246855.08997681, 187682.18559709,  80146.47997032, 122775.02287047,\n",
       "       190584.37508015, 155029.81368076, 183961.63471003, 163150.02819535,\n",
       "       139312.00748398, 107528.7508596 , 272989.07520996, 222641.45171435,\n",
       "       141086.26708971, 248895.51728258, 160340.57968076,  59556.15385254,\n",
       "       130268.36597314,  70401.44012832, 315626.27981011, 160757.7792104 ,\n",
       "       107371.57279763, 347725.54522072, 298835.72756405, 209289.53316652,\n",
       "       254652.27734906, 172948.11274508, 279626.4997682 , 243554.33203868,\n",
       "       323624.56043087, 263785.01974524, 141355.32228956,  80303.65803228,\n",
       "       184994.90994586, 311914.79481427, 261741.70493966, 182903.08127625,\n",
       "       261223.82316582, 225114.47464318, 183007.50871101,  54767.60729316,\n",
       "        87127.36710723, 347790.33150575, 221949.18801897, 251144.19857403,\n",
       "       188372.53982328, 165146.054656  , 148134.74494524, 158016.19685814,\n",
       "       221102.88124992, 184747.52501987, 144308.41736005, 214890.25342009,\n",
       "       178134.98879001, 156287.2381765 , 215026.98672732, 198208.60354205,\n",
       "       214048.32579528, 351766.85106716,  77945.98710277, 133463.13108428,\n",
       "       138683.29523611, 153581.92301615, 123403.73511834, 129690.85759705,\n",
       "       243222.01435726, 164353.05872   , 117588.14682554, 109896.12083456,\n",
       "       155216.09819746, 217117.94327318, 214094.57679476, 131490.40892295,\n",
       "       133653.59725314, 130948.28209279, 110829.49016092, 188797.94255012,\n",
       "        76237.79441218, 113737.28430733, 153974.86817107, 138683.29523611,\n",
       "       199277.14078339, 230249.41707365, 247202.73420765, 169836.3844424 ,\n",
       "       190726.02910063, 313093.63027903, 118059.68101144, 166219.3015963 ,\n",
       "        93854.25946841, 120102.99581702, 175399.46540006, 204731.36936946,\n",
       "       131576.99434066, 121517.59837473, 185700.08142282, 239186.65304729,\n",
       "       227050.65416888, 273041.69277451, 154034.62783597, 310893.13741148,\n",
       "       317494.61601412, 266221.27970574, 236858.13436512, 127533.14086755,\n",
       "        73091.23124718, 133879.5780306 , 150032.42157025, 255375.99342997,\n",
       "       111301.02434683, 147328.08864434, 143679.70511218, 192785.83665991,\n",
       "       221359.69909606, 151538.32344844, 187689.56246315, 175506.82101265,\n",
       "       156274.98218597, 231091.98285595, 100691.505164  , 212267.29111811,\n",
       "       103284.94318647, 111831.92832808, 157073.12848634, 195962.68600617,\n",
       "       172757.64657621, 131539.67116649, 132353.86023674, 172665.99806419,\n",
       "       279311.60207524, 247886.23961457, 177285.52839585, 111143.84628486,\n",
       "       194900.75861456, 124661.15961408, 217679.00037303, 156241.84998236,\n",
       "       148134.74494524, 264492.3210241 , 116140.25616093, 298253.66550362,\n",
       "       164937.75999231, 215498.06661425, 258921.91410756, 141570.09374034,\n",
       "       173766.79538539, 136416.22615476, 119298.37272956, 180616.5496746 ,\n",
       "       231013.39382497, 261741.70493966, 164584.38735389, 170478.56467768,\n",
       "       227454.38150729,  70446.7410524 , 225384.33333354, 131490.40892295,\n",
       "       187923.47940173, 342134.64775685, 143791.58225006, 273608.64861823,\n",
       "       196628.90028346, 263392.07459032, 206303.14998914, 123482.32414933,\n",
       "       173874.76631483, 218241.83387942, 307120.86392425, 284040.32885545,\n",
       "       217937.72768836, 201161.57486829, 207463.3722167 , 227195.73214361,\n",
       "       134406.19945608, 131535.98529075, 106480.29565923, 238681.83075449,\n",
       "       170653.57543829, 107616.00159058, 199387.31526256,  74173.71361554,\n",
       "       176563.20817034, 165302.14026151, 108471.81923141,  49306.29171774,\n",
       "       247566.82971473, 243082.81648959, 127787.76448236, 268971.89579018,\n",
       "       159476.10033994, 121753.36546768, 146328.21173741, 214856.49237741,\n",
       "       253257.76615073, 115859.18814389,  98929.25837546, 145568.29289401,\n",
       "       272342.9294514 , 179673.48130279, 267012.62297945, 291285.28184573,\n",
       "       121122.86749486, 256899.70516617,  77945.98710277, 182738.45351116,\n",
       "       262382.43000472, 124032.44736621, 219656.27121543, 153505.58753131,\n",
       "       224142.86002247, 354779.10480738, 230384.6815771 , 206726.56018056,\n",
       "       175181.89371953, 296118.39958651,  98536.31322054, 155501.34786666,\n",
       "       111222.43531584, 201420.50387951, 102252.68245544, 276979.89329375,\n",
       "       210546.95766227, 157872.12827364, 168143.04116162, 181435.72809134,\n",
       "       213855.8857278 , 136449.51426166, 145839.67538783, 166975.3463903 ,\n",
       "       158644.90910601, 156804.07328649,  20349.63747109,  70165.67303536,\n",
       "       255008.51464665, 108943.35341731, 213070.8124307 , 267793.06032542,\n",
       "       209761.06735243, 215422.74563422, 196437.00178501, 246200.6079584 ,\n",
       "       214397.82018048, 120260.17387899, 249017.91979706, 116487.90039176,\n",
       "       144613.81770346, 124032.44736621, 153246.99327864, 467928.69107237,\n",
       "       104037.54538941, 217021.17235202, 211979.31496698, 241559.13190917,\n",
       "       131138.74826166, 105171.07993008, 110515.13403699, 229879.8592843 ,\n",
       "       162100.48985692, 111536.79143978, 239016.94355108, 257262.13017358,\n",
       "       124661.15961408, 138162.05814126, 120574.53000292, 175462.96173656,\n",
       "        76452.79551407, 234081.41375159,  90553.52016709, 194100.51467133,\n",
       "       339971.66623713, 161316.93615947, 138683.29523611, 167211.11348326,\n",
       "       170747.61987753, 157785.61660375, 191725.33227948, 220763.53169017,\n",
       "       208124.27079661, 231953.36368267, 306622.52262236, 214162.05308752,\n",
       "       143968.08976968, 130301.52101739, 166948.87914744, 100343.86093317,\n",
       "       161994.01989031, 294051.21095735, 190978.28894728, 166268.04511145,\n",
       "       217115.14815801, 108943.35341731, 306002.48139289, 146856.55445843,\n",
       "       118791.7096008 , 256681.51396497,  85518.19468014, 126748.88458319,\n",
       "       122700.66128425, 113737.28430733, -19963.93268595, 196210.4659163 ,\n",
       "       142579.45867841, 205972.37906315, 262134.65009458, 283868.53103479,\n",
       "       119238.5164762 , 145024.45829055, 160672.96599541, 118059.68101144,\n",
       "       217384.20335786, 348134.89585929, 215452.76569016, 171814.5782044 ,\n",
       "       134079.53223061,  -4874.83873704, 168737.59317885, 171584.88359599,\n",
       "       158723.498137  , 199072.95913862, 172331.19718551, 158711.87098554,\n",
       "        76237.79441218, 238971.02310632, 121360.42031276, 177113.33138722,\n",
       "       154715.45755682,  77945.98710277,  59556.15385254, 145599.12996269,\n",
       "       229792.23652114, 280112.24520643, 232287.81116598, 110357.95597502,\n",
       "       131490.40892295, 258362.37660736, 128127.40812265, 270294.77188422,\n",
       "       104542.36768221, 173398.91741411, 215262.2995213 , 107057.2166737 ,\n",
       "       122617.8448085 , 166951.82596209, 146099.08665325, 188524.31071397,\n",
       "       115702.01008192, 178807.22975925, 166346.63414243, 130712.51499984,\n",
       "       156051.47108355, 114758.94171012, 128590.61116328, 207684.46443995,\n",
       "       137425.87074037, 177976.91996748, 146666.08828957, 113737.28430733,\n",
       "        78889.05547457, 116880.84554668, 195424.57560646, 144263.11643597,\n",
       "       170904.7979395 , 138683.29523611, 210544.46514659, 118008.55509131,\n",
       "       147354.11522178, 147923.51278531, 258471.77054797, 121360.42031276,\n",
       "       180021.12553363, 171140.56503245, 131812.76143362,  98064.77903464,\n",
       "       278481.16853923, 220291.99750427, 125850.51113703, 103599.29931041,\n",
       "       130948.28209279, 140734.86323532, 309478.53485377, 237370.95304465,\n",
       "       138488.99149204, 105171.07993008, 105171.07993008, 307749.57617212,\n",
       "       138300.65512508, 216712.69633513, 111301.02434683, 167557.30254387,\n",
       "       220920.70975214, 103049.17609352, 116487.90039176,  79360.58966048,\n",
       "       167289.70251424, 125020.88529534, 106973.97305477, 307325.91769277,\n",
       "       214476.40921146, 137392.58263347, 157768.39410737,  10921.55649071,\n",
       "       208346.46479472, 267627.3901003 , 100579.62802612, 191838.9307129 ,\n",
       "       199858.84944846, 161676.59320749, 163069.45174352, 110986.66822289,\n",
       "       160296.77040109, 199792.27323466, 192506.45777936, 124739.74864507,\n",
       "       332236.06573219, 160923.99100455, 173488.84883443, 237459.5809942 ,\n",
       "       108943.35341731,  46948.62078822, 127590.12825792, 163691.26937953,\n",
       "       179784.38972847, 185522.3577025 , 139121.54131512, 141106.34913069,\n",
       "       292346.12609929, 108628.99729337, 187408.49444611, 257497.89726653,\n",
       "       157073.12848634,  60420.63319336, 272681.96709325, 188438.14312104,\n",
       "       156287.2381765 , 175530.74062883, 133384.54205329, 106507.09345681,\n",
       "       123403.73511834, 154872.63561879,  35631.80032655, 167877.67183751,\n",
       "       215699.23701496, 189877.40435602, 237700.88832108, 180649.8377815 ,\n",
       "       153143.67693714, 189455.76125273, 208784.71087372, 252307.10569475,\n",
       "       348715.08492472, 230052.88262407, 215326.78752197, 188422.61907955,\n",
       "       137235.4045715 , 291212.59155861, 241858.68010074, 280641.23971849,\n",
       "       212923.06728887, 156278.26887374, 117273.7907016 , 126390.11829573,\n",
       "       155483.90503757,  76237.79441218, 171925.76207379, 102341.87481467,\n",
       "       306764.86991133, 229565.50316036, 176689.07622784, 257733.66435949,\n",
       "       182720.47331687, 175617.39467978, 203990.77998371, 322209.95787316,\n",
       "       128433.43310131, 184200.27066597,  41290.21055739, 112715.62690454,\n",
       "       223278.38068165, 151571.89631747, 217227.02529589, 164539.0864298 ,\n",
       "       205599.52526761, 290087.45679645, 108943.35341731, 265121.03327197,\n",
       "       138683.29523611,  99007.84740644, 186945.96603716, 111458.20240879,\n",
       "       288664.45446023, 268860.0186523 , 155501.34786666, 140693.32193479,\n",
       "        89027.04047149, 298476.07051603, 225085.92839428,  98419.03311521,\n",
       "       136606.69232363, 127176.00860557, 122547.58692279, 219573.53269133,\n",
       "       254956.16320741, 243525.71204195, 202576.177426  , 263280.19745244,\n",
       "       215891.01176917, 256830.62700697, 118452.62616636, 119209.66682836,\n",
       "       268922.12845181, 150438.36177679, 213926.28599457, 123010.78996342,\n",
       "       261191.58172278,  86055.68555917, 237300.51630368, 183036.19734098,\n",
       "       265557.28681555, 150943.18406959, 182266.91932526, 127735.27998047,\n",
       "       137459.544513  , 157947.16449154, 155972.88205256, 135820.80201379,\n",
       "       220449.17556623, 159808.89516096, 160969.29192863, 132235.77243708,\n",
       "       159168.36758797, 203800.31381484, 207253.03922498, 225284.42742407,\n",
       "       153638.71291445, 293413.08442616, 267321.52613952, 156240.82195532,\n",
       "       164861.90676167, 185600.94673348,  91777.65655593, 148134.74494524,\n",
       "       365591.10297625,  78897.38661985, 127468.21220146, 238086.40661352,\n",
       "       144813.23965285, 230029.91308329, 118655.10515241, 216565.02494112,\n",
       "       201288.53538224, 288069.03031926, 206896.31546938, 196558.11014714,\n",
       "       283765.07231223, 165560.74383259, 229388.76598963, 218720.21688459,\n",
       "       176844.27618737, 238412.77555464, 133135.64684606, 168749.60599603,\n",
       "       200390.78145675, 147328.08864434, 108568.50288252, 198159.24050622,\n",
       "       163691.26937953, 334184.16989426, 113296.76604536, 101398.80644286,\n",
       "        90318.21669151, 149731.06049794, 263785.01974524, 134595.56385009,\n",
       "       249243.09288018, 154210.63526402, 195222.09662041, 233023.42052365,\n",
       "       174048.35917885, 279171.5041286 , 172679.05754523, 235807.32471499,\n",
       "       214195.34119442, 221077.8878141 , 229093.96897446, 224339.66059737,\n",
       "       146273.14313465, 149371.40344992, 191838.9307129 , 124245.70853576,\n",
       "       240947.90828299, 120810.29709587, 115623.42105094, 191294.13671564,\n",
       "       152313.76633334, 108943.35341731, 130948.28209279, 287295.83166211,\n",
       "       155298.78161055, 176844.27618737, 209761.06735243, 210861.3137862 ,\n",
       "       221830.49001704,  92327.77977281,  85490.53407722, 156830.37951147,\n",
       "       181121.3719674 , 111301.02434683, 349508.7648108 , 132207.12028131,\n",
       "       187495.07474924, 218923.17301025, 350795.58052341, 128904.96728721,\n",
       "       207841.64250191, 137864.11681937, 193021.60375286, 180728.42681248,\n",
       "       277695.27822939, 239501.00917123, 157780.42976519, 118374.03713537,\n",
       "       277538.10016742, 131734.17240263, 117352.37973258, 123639.50221129,\n",
       "       232801.5799209 , 199837.51393315, 215905.2230215 , 114601.76364815,\n",
       "       151038.02688476, 173812.5920859 , 276483.15465773, 215513.76951099,\n",
       "       134595.56385009, 172790.93468311, 166660.99026637, 177506.27654214,\n",
       "       139940.71973185, 115151.88686504, 185229.45151971,  77684.43671704,\n",
       "       250189.11738503,  59556.15385254, 204360.41572471, 106507.09345681,\n",
       "       317808.97213806, 163314.95004096, 126748.88458319, 144229.82832907,\n",
       "       137628.34972642, 206791.07102187, 189216.04215874, 234936.87799706,\n",
       "       188460.67199641, 165370.27766373, 223278.38068165, 294827.68698387,\n",
       "       212275.91634391, 191046.26533162, 196498.56581168, 136213.74716871,\n",
       "        77945.98710277, 113737.28430733])"
      ]
     },
     "execution_count": 28,
     "metadata": {},
     "output_type": "execute_result"
    }
   ],
   "source": [
    "pred"
   ]
  },
  {
   "cell_type": "code",
   "execution_count": 29,
   "metadata": {},
   "outputs": [],
   "source": [
    "test_df['SalePrice'] = pred.copy()"
   ]
  },
  {
   "cell_type": "code",
   "execution_count": 30,
   "metadata": {},
   "outputs": [],
   "source": [
    "submission = test_df[['Id', 'SalePrice']].copy()"
   ]
  },
  {
   "cell_type": "code",
   "execution_count": 31,
   "metadata": {},
   "outputs": [
    {
     "data": {
      "text/html": [
       "<div>\n",
       "<style scoped>\n",
       "    .dataframe tbody tr th:only-of-type {\n",
       "        vertical-align: middle;\n",
       "    }\n",
       "\n",
       "    .dataframe tbody tr th {\n",
       "        vertical-align: top;\n",
       "    }\n",
       "\n",
       "    .dataframe thead th {\n",
       "        text-align: right;\n",
       "    }\n",
       "</style>\n",
       "<table border=\"1\" class=\"dataframe\">\n",
       "  <thead>\n",
       "    <tr style=\"text-align: right;\">\n",
       "      <th></th>\n",
       "      <th>Id</th>\n",
       "      <th>SalePrice</th>\n",
       "    </tr>\n",
       "  </thead>\n",
       "  <tbody>\n",
       "    <tr>\n",
       "      <th>0</th>\n",
       "      <td>2658</td>\n",
       "      <td>186894.573992</td>\n",
       "    </tr>\n",
       "    <tr>\n",
       "      <th>1</th>\n",
       "      <td>2718</td>\n",
       "      <td>195627.054593</td>\n",
       "    </tr>\n",
       "    <tr>\n",
       "      <th>2</th>\n",
       "      <td>2414</td>\n",
       "      <td>190699.318573</td>\n",
       "    </tr>\n",
       "    <tr>\n",
       "      <th>3</th>\n",
       "      <td>1989</td>\n",
       "      <td>117116.612640</td>\n",
       "    </tr>\n",
       "    <tr>\n",
       "      <th>4</th>\n",
       "      <td>625</td>\n",
       "      <td>181592.906153</td>\n",
       "    </tr>\n",
       "    <tr>\n",
       "      <th>...</th>\n",
       "      <td>...</td>\n",
       "      <td>...</td>\n",
       "    </tr>\n",
       "    <tr>\n",
       "      <th>873</th>\n",
       "      <td>1662</td>\n",
       "      <td>191046.265332</td>\n",
       "    </tr>\n",
       "    <tr>\n",
       "      <th>874</th>\n",
       "      <td>1234</td>\n",
       "      <td>196498.565812</td>\n",
       "    </tr>\n",
       "    <tr>\n",
       "      <th>875</th>\n",
       "      <td>1373</td>\n",
       "      <td>136213.747169</td>\n",
       "    </tr>\n",
       "    <tr>\n",
       "      <th>876</th>\n",
       "      <td>1672</td>\n",
       "      <td>77945.987103</td>\n",
       "    </tr>\n",
       "    <tr>\n",
       "      <th>877</th>\n",
       "      <td>1939</td>\n",
       "      <td>113737.284307</td>\n",
       "    </tr>\n",
       "  </tbody>\n",
       "</table>\n",
       "<p>878 rows × 2 columns</p>\n",
       "</div>"
      ],
      "text/plain": [
       "       Id      SalePrice\n",
       "0    2658  186894.573992\n",
       "1    2718  195627.054593\n",
       "2    2414  190699.318573\n",
       "3    1989  117116.612640\n",
       "4     625  181592.906153\n",
       "..    ...            ...\n",
       "873  1662  191046.265332\n",
       "874  1234  196498.565812\n",
       "875  1373  136213.747169\n",
       "876  1672   77945.987103\n",
       "877  1939  113737.284307\n",
       "\n",
       "[878 rows x 2 columns]"
      ]
     },
     "execution_count": 31,
     "metadata": {},
     "output_type": "execute_result"
    }
   ],
   "source": [
    "submission"
   ]
  },
  {
   "cell_type": "code",
   "execution_count": 32,
   "metadata": {},
   "outputs": [],
   "source": [
    "submission.to_csv(data+'/submissions/quicktest.csv', index=False)"
   ]
  },
  {
   "cell_type": "code",
   "execution_count": null,
   "metadata": {},
   "outputs": [],
   "source": []
  }
 ],
 "metadata": {
  "kernelspec": {
   "display_name": "Python 3",
   "language": "python",
   "name": "python3"
  },
  "language_info": {
   "codemirror_mode": {
    "name": "ipython",
    "version": 3
   },
   "file_extension": ".py",
   "mimetype": "text/x-python",
   "name": "python",
   "nbconvert_exporter": "python",
   "pygments_lexer": "ipython3",
   "version": "3.7.7"
  }
 },
 "nbformat": 4,
 "nbformat_minor": 4
}
